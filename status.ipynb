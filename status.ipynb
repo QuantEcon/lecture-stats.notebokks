{
 "cells": [
  {
   "cell_type": "markdown",
   "id": "9298259e",
   "metadata": {},
   "source": [
    "# Execution Statistics\n",
    "\n",
    "This table contains the latest execution statistics.\n",
    "\n",
    "[](https://stats.quantecon.org/ar1_bayes.html)[](https://stats.quantecon.org/ar1_turningpts.html)[](https://stats.quantecon.org/back_prop.html)[](https://stats.quantecon.org/bayes_nonconj.html)[](https://stats.quantecon.org/exchangeable.html)[](https://stats.quantecon.org/hoist_failure.html)[](https://stats.quantecon.org/imp_sample.html)[](https://stats.quantecon.org/intro.html)[](https://stats.quantecon.org/likelihood_bayes.html)[](https://stats.quantecon.org/likelihood_ratio_process.html)[](https://stats.quantecon.org/lln_clt.html)[](https://stats.quantecon.org/mix_model.html)[](https://stats.quantecon.org/mle.html)[](https://stats.quantecon.org/multi_hyper.html)[](https://stats.quantecon.org/multivariate_normal.html)[](https://stats.quantecon.org/navy_captain.html)[](https://stats.quantecon.org/ols.html)[](https://stats.quantecon.org/pandas_panel.html)[](https://stats.quantecon.org/prob_matrix.html)[](https://stats.quantecon.org/prob_meaning.html)[](https://stats.quantecon.org/rand_resp.html)[](https://stats.quantecon.org/.html)[](https://stats.quantecon.org/troubleshooting.html)[](https://stats.quantecon.org/util_rand_resp.html)[](https://stats.quantecon.org/wald_friedman.html)[](https://stats.quantecon.org/zreferences.html)|Document|Modified|Method|Run Time (s)|Status|\n",
    "|:------------------:|:------------------:|:------------------:|:------------------:|:------------------:|\n",
    "|ar1_bayes|2024-01-30 05:23|cache|581.28|✅|\n",
    "|ar1_turningpts|2024-01-30 05:23|cache|59.4|✅|\n",
    "|back_prop|2024-01-30 05:26|cache|133.66|✅|\n",
    "|bayes_nonconj|2024-01-30 06:36|cache|4229.27|✅|\n",
    "|exchangeable|2024-01-30 06:36|cache|10.22|✅|\n",
    "|hoist_failure|2024-01-30 06:38|cache|74.47|✅|\n",
    "|imp_sample|2024-01-30 06:42|cache|277.69|✅|\n",
    "|intro|2024-01-30 06:42|cache|1.32|✅|\n",
    "|likelihood_bayes|2024-01-30 06:43|cache|48.94|✅|\n",
    "|likelihood_ratio_process|2024-01-30 06:43|cache|10.69|✅|\n",
    "|lln_clt|2024-01-30 06:44|cache|14.86|✅|\n",
    "|mix_model|2024-01-30 06:44|cache|39.79|✅|\n",
    "|mle|2024-01-30 06:44|cache|6.16|✅|\n",
    "|multi_hyper|2024-01-30 06:45|cache|25.96|✅|\n",
    "|multivariate_normal|2024-01-30 06:45|cache|5.75|✅|\n",
    "|navy_captain|2024-01-30 06:46|cache|38.82|✅|\n",
    "|ols|2024-01-30 06:46|cache|17.5|✅|\n",
    "|pandas_panel|2024-01-30 06:46|cache|6.18|✅|\n",
    "|prob_matrix|2024-01-30 06:46|cache|18.22|✅|\n",
    "|prob_meaning|2024-01-30 06:47|cache|75.81|✅|\n",
    "|rand_resp|2024-01-30 06:48|cache|3.24|✅|\n",
    "|status|2024-01-30 06:42|cache|1.32|✅|\n",
    "|troubleshooting|2024-01-30 06:42|cache|1.32|✅|\n",
    "|util_rand_resp|2024-01-30 06:48|cache|3.52|✅|\n",
    "|wald_friedman|2024-01-30 06:48|cache|20.58|✅|\n",
    "|zreferences|2024-01-30 06:42|cache|1.32|✅|\n",
    "\n",
    "<a id='status-machine-details'></a>\n",
    "These lectures are built on `linux` instances through `github actions`  and `amazon web services (aws)` to\n",
    "enable access to a `gpu`. These lectures are built on a [p3.2xlarge](https://aws.amazon.com/ec2/instance-types/p3/)\n",
    "that has access to `8 vcpu's`, a `V100 NVIDIA Tesla GPU`, and `61 Gb` of memory."
   ]
  }
 ],
 "metadata": {
  "date": 1706679397.2602448,
  "filename": "status.md",
  "kernelspec": {
   "display_name": "Python",
   "language": "python3",
   "name": "python3"
  },
  "title": "Execution Statistics"
 },
 "nbformat": 4,
 "nbformat_minor": 5
}