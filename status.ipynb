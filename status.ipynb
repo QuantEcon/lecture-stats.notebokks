{
 "cells": [
  {
   "cell_type": "markdown",
   "id": "d5af20ae",
   "metadata": {},
   "source": [
    "# Execution Statistics\n",
    "\n",
    "This table contains the latest execution statistics.\n",
    "\n",
    "[](https://python.quantecon.org/ar1_bayes.html)[](https://python.quantecon.org/ar1_turningpts.html)[](https://python.quantecon.org/back_prop.html)[](https://python.quantecon.org/bayes_nonconj.html)[](https://python.quantecon.org/exchangeable.html)[](https://python.quantecon.org/hoist_failure.html)[](https://python.quantecon.org/imp_sample.html)[](https://python.quantecon.org/intro.html)[](https://python.quantecon.org/likelihood_bayes.html)[](https://python.quantecon.org/likelihood_ratio_process.html)[](https://python.quantecon.org/lln_clt.html)[](https://python.quantecon.org/mix_model.html)[](https://python.quantecon.org/mle.html)[](https://python.quantecon.org/multi_hyper.html)[](https://python.quantecon.org/multivariate_normal.html)[](https://python.quantecon.org/navy_captain.html)[](https://python.quantecon.org/ols.html)[](https://python.quantecon.org/pandas_panel.html)[](https://python.quantecon.org/prob_matrix.html)[](https://python.quantecon.org/prob_meaning.html)[](https://python.quantecon.org/rand_resp.html)[](https://python.quantecon.org/.html)[](https://python.quantecon.org/troubleshooting.html)[](https://python.quantecon.org/util_rand_resp.html)[](https://python.quantecon.org/wald_friedman.html)[](https://python.quantecon.org/zreferences.html)|Document|Modified|Method|Run Time (s)|Status|\n",
    "|:------------------:|:------------------:|:------------------:|:------------------:|:------------------:|\n",
    "|ar1_bayes|2024-01-24 00:50|cache|572.23|✅|\n",
    "|ar1_turningpts|2024-01-24 00:51|cache|60.45|✅|\n",
    "|back_prop|2024-01-24 00:54|cache|133.16|✅|\n",
    "|bayes_nonconj|2024-01-24 02:01|cache|4027.08|✅|\n",
    "|exchangeable|2024-01-24 02:01|cache|9.97|✅|\n",
    "|hoist_failure|2024-01-24 02:02|cache|76.49|✅|\n",
    "|imp_sample|2024-01-24 02:07|cache|277.73|✅|\n",
    "|intro|2024-01-24 02:07|cache|1.14|✅|\n",
    "|likelihood_bayes|2024-01-24 02:08|cache|49.06|✅|\n",
    "|likelihood_ratio_process|2024-01-24 02:08|cache|10.38|✅|\n",
    "|lln_clt|2024-01-24 02:08|cache|14.75|✅|\n",
    "|mix_model|2024-01-24 02:09|cache|38.99|✅|\n",
    "|mle|2024-01-24 02:09|cache|6.04|✅|\n",
    "|multi_hyper|2024-01-24 02:09|cache|25.55|✅|\n",
    "|multivariate_normal|2024-01-24 02:09|cache|5.39|✅|\n",
    "|navy_captain|2024-01-24 02:10|cache|37.81|✅|\n",
    "|ols|2024-01-24 02:10|cache|17.24|✅|\n",
    "|pandas_panel|2024-01-24 02:10|cache|5.86|✅|\n",
    "|prob_matrix|2024-01-24 02:11|cache|18.06|✅|\n",
    "|prob_meaning|2024-01-24 02:12|cache|76.02|✅|\n",
    "|rand_resp|2024-01-24 02:12|cache|3.02|✅|\n",
    "|status|2024-01-24 02:07|cache|1.14|✅|\n",
    "|troubleshooting|2024-01-24 02:07|cache|1.14|✅|\n",
    "|util_rand_resp|2024-01-24 02:12|cache|3.73|✅|\n",
    "|wald_friedman|2024-01-24 02:12|cache|20.09|✅|\n",
    "|zreferences|2024-01-24 02:07|cache|1.14|✅|\n",
    "\n",
    "<a id='status-machine-details'></a>\n",
    "These lectures are built on `linux` instances through `github actions`  and `amazon web services (aws)` to\n",
    "enable access to a `gpu`. These lectures are built on a [p3.2xlarge](https://aws.amazon.com/ec2/instance-types/p3/)\n",
    "that has access to `8 vcpu's`, a `V100 NVIDIA Tesla GPU`, and `61 Gb` of memory."
   ]
  }
 ],
 "metadata": {
  "date": 1706246575.9886668,
  "filename": "status.md",
  "kernelspec": {
   "display_name": "Python",
   "language": "python3",
   "name": "python3"
  },
  "title": "Execution Statistics"
 },
 "nbformat": 4,
 "nbformat_minor": 5
}