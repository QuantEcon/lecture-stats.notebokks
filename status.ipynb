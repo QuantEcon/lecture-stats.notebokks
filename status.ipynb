{
 "cells": [
  {
   "cell_type": "markdown",
   "id": "59ab8029",
   "metadata": {},
   "source": [
    "# Execution Statistics\n",
    "\n",
    "This table contains the latest execution statistics.\n",
    "\n",
    "[](https://python.quantecon.org/ar1_bayes.html)[](https://python.quantecon.org/ar1_turningpts.html)[](https://python.quantecon.org/back_prop.html)[](https://python.quantecon.org/bayes_nonconj.html)[](https://python.quantecon.org/exchangeable.html)[](https://python.quantecon.org/hoist_failure.html)[](https://python.quantecon.org/imp_sample.html)[](https://python.quantecon.org/intro.html)[](https://python.quantecon.org/likelihood_bayes.html)[](https://python.quantecon.org/likelihood_ratio_process.html)[](https://python.quantecon.org/lln_clt.html)[](https://python.quantecon.org/mix_model.html)[](https://python.quantecon.org/mle.html)[](https://python.quantecon.org/multi_hyper.html)[](https://python.quantecon.org/multivariate_normal.html)[](https://python.quantecon.org/navy_captain.html)[](https://python.quantecon.org/ols.html)[](https://python.quantecon.org/pandas_panel.html)[](https://python.quantecon.org/prob_matrix.html)[](https://python.quantecon.org/prob_meaning.html)[](https://python.quantecon.org/rand_resp.html)[](https://python.quantecon.org/.html)[](https://python.quantecon.org/troubleshooting.html)[](https://python.quantecon.org/util_rand_resp.html)[](https://python.quantecon.org/wald_friedman.html)[](https://python.quantecon.org/zreferences.html)|Document|Modified|Method|Run Time (s)|Status|\n",
    "|:------------------:|:------------------:|:------------------:|:------------------:|:------------------:|\n",
    "|ar1_bayes|2024-01-29 00:22|cache|598.32|✅|\n",
    "|ar1_turningpts|2024-01-29 00:23|cache|62.53|✅|\n",
    "|back_prop|2024-01-29 00:26|cache|136.09|✅|\n",
    "|bayes_nonconj|2024-01-29 01:37|cache|4279.22|✅|\n",
    "|exchangeable|2024-01-29 01:37|cache|10.17|✅|\n",
    "|hoist_failure|2024-01-29 01:38|cache|75.62|✅|\n",
    "|imp_sample|2024-01-29 01:43|cache|275.9|✅|\n",
    "|intro|2024-01-29 01:43|cache|4.02|✅|\n",
    "|likelihood_bayes|2024-01-29 01:44|cache|49.22|✅|\n",
    "|likelihood_ratio_process|2024-01-29 01:44|cache|10.98|✅|\n",
    "|lln_clt|2024-01-29 01:44|cache|15.36|✅|\n",
    "|mix_model|2024-01-29 01:45|cache|39.68|✅|\n",
    "|mle|2024-01-29 01:45|cache|6.2|✅|\n",
    "|multi_hyper|2024-01-29 01:45|cache|26.26|✅|\n",
    "|multivariate_normal|2024-01-29 01:46|cache|5.87|✅|\n",
    "|navy_captain|2024-01-29 01:46|cache|39.27|✅|\n",
    "|ols|2024-01-29 01:47|cache|17.47|✅|\n",
    "|pandas_panel|2024-01-29 01:47|cache|5.98|✅|\n",
    "|prob_matrix|2024-01-29 01:47|cache|18.14|✅|\n",
    "|prob_meaning|2024-01-29 01:48|cache|76.77|✅|\n",
    "|rand_resp|2024-01-29 01:48|cache|3.08|✅|\n",
    "|status|2024-01-29 01:43|cache|4.02|✅|\n",
    "|troubleshooting|2024-01-29 01:43|cache|4.02|✅|\n",
    "|util_rand_resp|2024-01-29 01:48|cache|3.54|✅|\n",
    "|wald_friedman|2024-01-29 01:49|cache|20.53|✅|\n",
    "|zreferences|2024-01-29 01:43|cache|4.02|✅|\n",
    "\n",
    "<a id='status-machine-details'></a>\n",
    "These lectures are built on `linux` instances through `github actions`  and `amazon web services (aws)` to\n",
    "enable access to a `gpu`. These lectures are built on a [p3.2xlarge](https://aws.amazon.com/ec2/instance-types/p3/)\n",
    "that has access to `8 vcpu's`, a `V100 NVIDIA Tesla GPU`, and `61 Gb` of memory."
   ]
  }
 ],
 "metadata": {
  "date": 1706493930.1897492,
  "filename": "status.md",
  "kernelspec": {
   "display_name": "Python",
   "language": "python3",
   "name": "python3"
  },
  "title": "Execution Statistics"
 },
 "nbformat": 4,
 "nbformat_minor": 5
}