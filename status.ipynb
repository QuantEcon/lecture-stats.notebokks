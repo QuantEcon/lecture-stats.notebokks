{
 "cells": [
  {
   "cell_type": "markdown",
   "id": "1c3b5a44",
   "metadata": {},
   "source": [
    "# Execution Statistics\n",
    "\n",
    "This table contains the latest execution statistics.\n",
    "\n",
    "[](https://python.quantecon.org/ar1_bayes.html)[](https://python.quantecon.org/ar1_processes.html)[](https://python.quantecon.org/ar1_turningpts.html)[](https://python.quantecon.org/back_prop.html)[](https://python.quantecon.org/bayes_nonconj.html)[](https://python.quantecon.org/exchangeable.html)[](https://python.quantecon.org/hoist_failure.html)[](https://python.quantecon.org/imp_sample.html)[](https://python.quantecon.org/intro.html)[](https://python.quantecon.org/likelihood_bayes.html)[](https://python.quantecon.org/likelihood_ratio_process.html)[](https://python.quantecon.org/lln_clt.html)[](https://python.quantecon.org/mix_model.html)[](https://python.quantecon.org/mle.html)[](https://python.quantecon.org/multi_hyper.html)[](https://python.quantecon.org/multivariate_normal.html)[](https://python.quantecon.org/navy_captain.html)[](https://python.quantecon.org/ols.html)[](https://python.quantecon.org/pandas_panel.html)[](https://python.quantecon.org/prob_matrix.html)[](https://python.quantecon.org/prob_meaning.html)[](https://python.quantecon.org/rand_resp.html)[](https://python.quantecon.org/.html)[](https://python.quantecon.org/troubleshooting.html)[](https://python.quantecon.org/util_rand_resp.html)[](https://python.quantecon.org/wald_friedman.html)[](https://python.quantecon.org/zreferences.html)|Document|Modified|Method|Run Time (s)|Status|\n",
    "|:------------------:|:------------------:|:------------------:|:------------------:|:------------------:|\n",
    "|ar1_bayes|2024-01-22 23:48|cache|584.32|✅|\n",
    "|ar1_processes|2024-01-22 23:48|cache|5.89|✅|\n",
    "|ar1_turningpts|2024-01-22 23:49|cache|62.51|✅|\n",
    "|back_prop|2024-01-22 23:51|cache|136.03|✅|\n",
    "|bayes_nonconj|2024-01-23 01:01|cache|4192.46|✅|\n",
    "|exchangeable|2024-01-23 01:01|cache|10.77|✅|\n",
    "|hoist_failure|2024-01-23 01:03|cache|78.4|✅|\n",
    "|imp_sample|2024-01-23 01:07|cache|276.83|✅|\n",
    "|intro|2024-01-23 01:07|cache|4.02|✅|\n",
    "|likelihood_bayes|2024-01-23 01:08|cache|49.85|✅|\n",
    "|likelihood_ratio_process|2024-01-23 01:09|cache|11.2|✅|\n",
    "|lln_clt|2024-01-23 01:09|cache|15.06|✅|\n",
    "|mix_model|2024-01-23 01:09|cache|40.89|✅|\n",
    "|mle|2024-01-23 01:10|cache|6.37|✅|\n",
    "|multi_hyper|2024-01-23 01:10|cache|26.27|✅|\n",
    "|multivariate_normal|2024-01-23 01:10|cache|5.98|✅|\n",
    "|navy_captain|2024-01-23 01:11|cache|40.57|✅|\n",
    "|ols|2024-01-23 01:11|cache|18.52|✅|\n",
    "|pandas_panel|2024-01-23 01:11|cache|5.91|✅|\n",
    "|prob_matrix|2024-01-23 01:12|cache|18.29|✅|\n",
    "|prob_meaning|2024-01-23 01:13|cache|76.9|✅|\n",
    "|rand_resp|2024-01-23 01:13|cache|3.4|✅|\n",
    "|status|2024-01-23 01:07|cache|4.02|✅|\n",
    "|troubleshooting|2024-01-23 01:07|cache|4.02|✅|\n",
    "|util_rand_resp|2024-01-23 01:13|cache|3.5|✅|\n",
    "|wald_friedman|2024-01-23 01:13|cache|20.69|✅|\n",
    "|zreferences|2024-01-23 01:07|cache|4.02|✅|\n",
    "\n",
    "<a id='status-machine-details'></a>\n",
    "These lectures are built on `linux` instances through `github actions`  and `amazon web services (aws)` to\n",
    "enable access to a `gpu`. These lectures are built on a [p3.2xlarge](https://aws.amazon.com/ec2/instance-types/p3/)\n",
    "that has access to `8 vcpu's`, a `V100 NVIDIA Tesla GPU`, and `61 Gb` of memory."
   ]
  }
 ],
 "metadata": {
  "date": 1705976157.9969482,
  "filename": "status.md",
  "kernelspec": {
   "display_name": "Python",
   "language": "python3",
   "name": "python3"
  },
  "title": "Execution Statistics"
 },
 "nbformat": 4,
 "nbformat_minor": 5
}