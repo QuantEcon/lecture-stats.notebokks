{
 "cells": [
  {
   "cell_type": "markdown",
   "id": "f85f935a",
   "metadata": {},
   "source": [
    "# Execution Statistics\n",
    "\n",
    "This table contains the latest execution statistics.\n",
    "\n",
    "[](https://stats.quantecon.org/ar1_bayes.html)[](https://stats.quantecon.org/ar1_turningpts.html)[](https://stats.quantecon.org/back_prop.html)[](https://stats.quantecon.org/bayes_nonconj.html)[](https://stats.quantecon.org/exchangeable.html)[](https://stats.quantecon.org/hoist_failure.html)[](https://stats.quantecon.org/imp_sample.html)[](https://stats.quantecon.org/intro.html)[](https://stats.quantecon.org/likelihood_bayes.html)[](https://stats.quantecon.org/likelihood_ratio_process.html)[](https://stats.quantecon.org/lln_clt.html)[](https://stats.quantecon.org/mix_model.html)[](https://stats.quantecon.org/mle.html)[](https://stats.quantecon.org/multi_hyper.html)[](https://stats.quantecon.org/multivariate_normal.html)[](https://stats.quantecon.org/navy_captain.html)[](https://stats.quantecon.org/ols.html)[](https://stats.quantecon.org/pandas_panel.html)[](https://stats.quantecon.org/prob_matrix.html)[](https://stats.quantecon.org/prob_meaning.html)[](https://stats.quantecon.org/rand_resp.html)[](https://stats.quantecon.org/.html)[](https://stats.quantecon.org/troubleshooting.html)[](https://stats.quantecon.org/util_rand_resp.html)[](https://stats.quantecon.org/wald_friedman.html)[](https://stats.quantecon.org/zreferences.html)|Document|Modified|Method|Run Time (s)|Status|\n",
    "|:------------------:|:------------------:|:------------------:|:------------------:|:------------------:|\n",
    "|ar1_bayes|2024-01-30 02:51|cache|596.37|✅|\n",
    "|ar1_turningpts|2024-01-30 02:52|cache|66.5|✅|\n",
    "|back_prop|2024-01-30 02:55|cache|139.52|✅|\n",
    "|bayes_nonconj|2024-01-30 04:06|cache|4306.65|✅|\n",
    "|exchangeable|2024-01-30 04:07|cache|10.84|✅|\n",
    "|hoist_failure|2024-01-30 04:08|cache|79.06|✅|\n",
    "|imp_sample|2024-01-30 04:13|cache|276.89|✅|\n",
    "|intro|2024-01-30 04:13|cache|1.28|✅|\n",
    "|likelihood_bayes|2024-01-30 04:13|cache|49.49|✅|\n",
    "|likelihood_ratio_process|2024-01-30 04:14|cache|11.14|✅|\n",
    "|lln_clt|2024-01-30 04:14|cache|14.51|✅|\n",
    "|mix_model|2024-01-30 04:15|cache|40.0|✅|\n",
    "|mle|2024-01-30 04:15|cache|6.12|✅|\n",
    "|multi_hyper|2024-01-30 04:15|cache|26.78|✅|\n",
    "|multivariate_normal|2024-01-30 04:15|cache|5.8|✅|\n",
    "|navy_captain|2024-01-30 04:16|cache|41.41|✅|\n",
    "|ols|2024-01-30 04:16|cache|17.44|✅|\n",
    "|pandas_panel|2024-01-30 04:16|cache|6.25|✅|\n",
    "|prob_matrix|2024-01-30 04:17|cache|18.21|✅|\n",
    "|prob_meaning|2024-01-30 04:18|cache|76.0|✅|\n",
    "|rand_resp|2024-01-30 04:18|cache|3.38|✅|\n",
    "|status|2024-01-30 04:13|cache|1.28|✅|\n",
    "|troubleshooting|2024-01-30 04:13|cache|1.28|✅|\n",
    "|util_rand_resp|2024-01-30 04:18|cache|3.59|✅|\n",
    "|wald_friedman|2024-01-30 04:18|cache|20.86|✅|\n",
    "|zreferences|2024-01-30 04:13|cache|1.28|✅|\n",
    "\n",
    "<a id='status-machine-details'></a>\n",
    "These lectures are built on `linux` instances through `github actions`  and `amazon web services (aws)` to\n",
    "enable access to a `gpu`. These lectures are built on a [p3.2xlarge](https://aws.amazon.com/ec2/instance-types/p3/)\n",
    "that has access to `8 vcpu's`, a `V100 NVIDIA Tesla GPU`, and `61 Gb` of memory."
   ]
  }
 ],
 "metadata": {
  "date": 1706589241.2233737,
  "filename": "status.md",
  "kernelspec": {
   "display_name": "Python",
   "language": "python3",
   "name": "python3"
  },
  "title": "Execution Statistics"
 },
 "nbformat": 4,
 "nbformat_minor": 5
}