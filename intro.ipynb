{
 "cells": [
  {
   "cell_type": "markdown",
   "id": "5b92dc0b",
   "metadata": {},
   "source": [
    "# Statistics for Computational Economics\n",
    "\n",
    "This website presents a set of lectures on statistics for computational economics."
   ]
  },
  {
   "cell_type": "markdown",
   "id": "0edcea0f",
   "metadata": {},
   "source": [
    "# Elementary Statistics\n",
    "\n",
    "- [Pandas for Panel Data](https://python.quantecon.org/pandas_panel.html)\n",
    "- [Linear Regression in Python](https://python.quantecon.org/ols.html)\n",
    "- [Maximum Likelihood Estimation](https://python.quantecon.org/mle.html)\n",
    "- [Elementary Probability with Matrices](https://python.quantecon.org/prob_matrix.html)\n",
    "- [LLN and CLT](https://python.quantecon.org/lln_clt.html)\n",
    "- [Multivariate Normal Distribution](https://python.quantecon.org/multivariate_normal.html)"
   ]
  },
  {
   "cell_type": "markdown",
   "id": "ecb35fb5",
   "metadata": {},
   "source": [
    "# Information & Bayesian Statistics\n",
    "\n",
    "- [Two Meanings of Probability](https://python.quantecon.org/prob_meaning.html)\n",
    "- [Non-Conjugate Priors](https://python.quantecon.org/bayes_nonconj.html)\n",
    "- [AR1 Processes](https://python.quantecon.org/ar1_processes.html)\n",
    "- [Posterior Distributions for  AR(1) Parameters](https://python.quantecon.org/ar1_bayes.html)\n",
    "- [Forecasting  an AR(1) Process](https://python.quantecon.org/ar1_turningpts.html)\n",
    "- [Likelihood Ratio Processes](https://python.quantecon.org/likelihood_ratio_process.html)\n",
    "- [Computing Mean of a Likelihood Ratio Process](https://python.quantecon.org/imp_sample.html)\n",
    "- [A Problem that Stumped Milton Friedman](https://python.quantecon.org/wald_friedman.html)\n",
    "- [Exchangeability and Bayesian Updating](https://python.quantecon.org/exchangeable.html)\n",
    "- [Likelihood Ratio Processes and Bayesian Learning](https://python.quantecon.org/likelihood_bayes.html)\n",
    "- [Incorrect Models](https://python.quantecon.org/mix_model.html)\n",
    "- [Bayesian versus Frequentist Decision Rules](https://python.quantecon.org/navy_captain.html)"
   ]
  },
  {
   "cell_type": "markdown",
   "id": "7579f3b2",
   "metadata": {},
   "source": [
    "# Applications of Statistics\n",
    "\n",
    "- [Multivariate Hypergeometric Distribution](https://python.quantecon.org/multi_hyper.html)\n",
    "- [Fault Tree Uncertainties](https://python.quantecon.org/hoist_failure.html)\n",
    "- [Introduction to Artificial Neural Networks](https://python.quantecon.org/back_prop.html)\n",
    "- [Randomized Response Surveys](https://python.quantecon.org/rand_resp.html)\n",
    "- [Expected Utilities of Random Responses](https://python.quantecon.org/util_rand_resp.html)"
   ]
  },
  {
   "cell_type": "markdown",
   "id": "eef4d5fb",
   "metadata": {},
   "source": [
    "# Other\n",
    "\n",
    "- [Troubleshooting](https://python.quantecon.org/troubleshooting.html)\n",
    "- [References](https://python.quantecon.org/zreferences.html)\n",
    "- [Execution Statistics](https://python.quantecon.org/status.html)"
   ]
  }
 ],
 "metadata": {
  "date": 1705976156.7409492,
  "filename": "intro.md",
  "kernelspec": {
   "display_name": "Python",
   "language": "python3",
   "name": "python3"
  },
  "title": "Statistics for Computational Economics"
 },
 "nbformat": 4,
 "nbformat_minor": 5
}