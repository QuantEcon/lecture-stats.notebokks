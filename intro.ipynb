{
 "cells": [
  {
   "cell_type": "markdown",
   "id": "bb31902a",
   "metadata": {},
   "source": [
    "# Statistics for Computational Economics\n",
    "\n",
    "This website presents a set of lectures on statistics for computational economics."
   ]
  },
  {
   "cell_type": "markdown",
   "id": "b40c5d2d",
   "metadata": {},
   "source": [
    "# Elementary Statistics\n",
    "\n",
    "- [Pandas for Panel Data](https://python.quantecon.org/pandas_panel.html)\n",
    "- [Linear Regression in Python](https://python.quantecon.org/ols.html)\n",
    "- [Maximum Likelihood Estimation](https://python.quantecon.org/mle.html)\n",
    "- [Elementary Probability with Matrices](https://python.quantecon.org/prob_matrix.html)\n",
    "- [LLN and CLT](https://python.quantecon.org/lln_clt.html)\n",
    "- [Multivariate Normal Distribution](https://python.quantecon.org/multivariate_normal.html)"
   ]
  },
  {
   "cell_type": "markdown",
   "id": "97763615",
   "metadata": {},
   "source": [
    "# Information & Bayesian Statistics\n",
    "\n",
    "- [Two Meanings of Probability](https://python.quantecon.org/prob_meaning.html)\n",
    "- [Non-Conjugate Priors](https://python.quantecon.org/bayes_nonconj.html)\n",
    "- [Posterior Distributions for  AR(1) Parameters](https://python.quantecon.org/ar1_bayes.html)\n",
    "- [Forecasting  an AR(1) Process](https://python.quantecon.org/ar1_turningpts.html)\n",
    "- [Likelihood Ratio Processes](https://python.quantecon.org/likelihood_ratio_process.html)\n",
    "- [Computing Mean of a Likelihood Ratio Process](https://python.quantecon.org/imp_sample.html)\n",
    "- [A Problem that Stumped Milton Friedman](https://python.quantecon.org/wald_friedman.html)\n",
    "- [Exchangeability and Bayesian Updating](https://python.quantecon.org/exchangeable.html)\n",
    "- [Likelihood Ratio Processes and Bayesian Learning](https://python.quantecon.org/likelihood_bayes.html)\n",
    "- [Incorrect Models](https://python.quantecon.org/mix_model.html)\n",
    "- [Bayesian versus Frequentist Decision Rules](https://python.quantecon.org/navy_captain.html)"
   ]
  },
  {
   "cell_type": "markdown",
   "id": "7e8070d4",
   "metadata": {},
   "source": [
    "# Applications of Statistics\n",
    "\n",
    "- [Multivariate Hypergeometric Distribution](https://python.quantecon.org/multi_hyper.html)\n",
    "- [Fault Tree Uncertainties](https://python.quantecon.org/hoist_failure.html)\n",
    "- [Introduction to Artificial Neural Networks](https://python.quantecon.org/back_prop.html)\n",
    "- [Randomized Response Surveys](https://python.quantecon.org/rand_resp.html)\n",
    "- [Expected Utilities of Random Responses](https://python.quantecon.org/util_rand_resp.html)"
   ]
  },
  {
   "cell_type": "markdown",
   "id": "560263a4",
   "metadata": {},
   "source": [
    "# Other\n",
    "\n",
    "- [Troubleshooting](https://python.quantecon.org/troubleshooting.html)\n",
    "- [References](https://python.quantecon.org/zreferences.html)\n",
    "- [Execution Statistics](https://python.quantecon.org/status.html)"
   ]
  }
 ],
 "metadata": {
  "date": 1706246574.9499836,
  "filename": "intro.md",
  "kernelspec": {
   "display_name": "Python",
   "language": "python3",
   "name": "python3"
  },
  "title": "Statistics for Computational Economics"
 },
 "nbformat": 4,
 "nbformat_minor": 5
}